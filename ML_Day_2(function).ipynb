{
  "nbformat": 4,
  "nbformat_minor": 0,
  "metadata": {
    "colab": {
      "name": "ML Day-2(function).ipynb",
      "provenance": []
    },
    "kernelspec": {
      "name": "python3",
      "display_name": "Python 3"
    }
  },
  "cells": [
    {
      "cell_type": "markdown",
      "metadata": {
        "id": "03nQbVjHtC_w",
        "colab_type": "text"
      },
      "source": [
        "What is function?"
      ]
    },
    {
      "cell_type": "markdown",
      "metadata": {
        "id": "-GEwMCgGs6Ae",
        "colab_type": "text"
      },
      "source": [
        "A function is a set of statement together to run the code more than once . It allow us to specify that can serve as input to the function."
      ]
    },
    {
      "cell_type": "markdown",
      "metadata": {
        "id": "ALsqbosdrXAo",
        "colab_type": "text"
      },
      "source": [
        "Function will be one of our building block when we construct larger & larger amount of code to solve the problems."
      ]
    },
    {
      "cell_type": "markdown",
      "metadata": {
        "id": "dLC2K2BYt2G1",
        "colab_type": "text"
      },
      "source": [
        "How function is important in any kind of programming language?\n",
        "\n",
        "It allow us to rescue the code instead of writting the code again & again."
      ]
    },
    {
      "cell_type": "markdown",
      "metadata": {
        "id": "0TKD4z5bud1N",
        "colab_type": "text"
      },
      "source": [
        "how to create function in python?"
      ]
    },
    {
      "cell_type": "code",
      "metadata": {
        "id": "XNqxeXyNpoVq",
        "colab_type": "code",
        "colab": {
          "base_uri": "https://localhost:8080/",
          "height": 130
        },
        "outputId": "a4f1400c-2fd6-4cc7-bf51-f834494bab09"
      },
      "source": [
        "#syntax\n",
        "#def = defenition\n",
        "#function_name = me, you, student, x,y,z\n",
        "def function_name():\n",
        "  #indentation in python\n",
        "  code statement\n",
        "  code statement\n",
        "\n",
        "\n",
        "functioncall()\n",
        "function_name()"
      ],
      "execution_count": 1,
      "outputs": [
        {
          "output_type": "error",
          "ename": "SyntaxError",
          "evalue": "ignored",
          "traceback": [
            "\u001b[0;36m  File \u001b[0;32m\"<ipython-input-1-59f0665499e0>\"\u001b[0;36m, line \u001b[0;32m6\u001b[0m\n\u001b[0;31m    code statement\u001b[0m\n\u001b[0m                 ^\u001b[0m\n\u001b[0;31mSyntaxError\u001b[0m\u001b[0;31m:\u001b[0m invalid syntax\n"
          ]
        }
      ]
    },
    {
      "cell_type": "code",
      "metadata": {
        "id": "G0jqcOqLxo9V",
        "colab_type": "code",
        "colab": {}
      },
      "source": [
        "def students():\n",
        "  pass"
      ],
      "execution_count": 4,
      "outputs": []
    },
    {
      "cell_type": "code",
      "metadata": {
        "id": "XiI0i8RiyD3i",
        "colab_type": "code",
        "colab": {}
      },
      "source": [
        "students()"
      ],
      "execution_count": 5,
      "outputs": []
    },
    {
      "cell_type": "code",
      "metadata": {
        "id": "zVaNICFEzBIK",
        "colab_type": "code",
        "colab": {}
      },
      "source": [
        "def students():\n",
        "  print(\"This is function\")"
      ],
      "execution_count": 6,
      "outputs": []
    },
    {
      "cell_type": "code",
      "metadata": {
        "id": "XG8G7-SIzVxc",
        "colab_type": "code",
        "colab": {
          "base_uri": "https://localhost:8080/",
          "height": 34
        },
        "outputId": "d37f18d6-0298-4fc2-bd14-c6c636f3668e"
      },
      "source": [
        "a = students()"
      ],
      "execution_count": 8,
      "outputs": [
        {
          "output_type": "stream",
          "text": [
            "This is function\n"
          ],
          "name": "stdout"
        }
      ]
    },
    {
      "cell_type": "code",
      "metadata": {
        "id": "nzrvovUTzYo3",
        "colab_type": "code",
        "colab": {
          "base_uri": "https://localhost:8080/",
          "height": 34
        },
        "outputId": "4f8c72c3-a5f9-4336-af91-6f86fa84a919"
      },
      "source": [
        "print(a)"
      ],
      "execution_count": 9,
      "outputs": [
        {
          "output_type": "stream",
          "text": [
            "None\n"
          ],
          "name": "stdout"
        }
      ]
    },
    {
      "cell_type": "code",
      "metadata": {
        "id": "9uiTm-wNz7XE",
        "colab_type": "code",
        "colab": {
          "base_uri": "https://localhost:8080/",
          "height": 34
        },
        "outputId": "8e8796ac-d25a-4fba-cf2b-7af9683826ee"
      },
      "source": [
        "def students():\n",
        "  return('Hello')\n",
        "a = students()\n",
        "print(a)"
      ],
      "execution_count": 12,
      "outputs": [
        {
          "output_type": "stream",
          "text": [
            "Hello\n"
          ],
          "name": "stdout"
        }
      ]
    },
    {
      "cell_type": "code",
      "metadata": {
        "id": "cwcXVvVu1AWo",
        "colab_type": "code",
        "colab": {}
      },
      "source": [
        "#task 1 : Create a function and try to call it.\n",
        "#task 2:  Create a function with return statement.\n",
        "#ankit@infizeal.com\n",
        "#time limit is 6 min only."
      ],
      "execution_count": 13,
      "outputs": []
    },
    {
      "cell_type": "code",
      "metadata": {
        "id": "aIfpYQY72ZxI",
        "colab_type": "code",
        "colab": {}
      },
      "source": [
        "#argument & parameter in function."
      ],
      "execution_count": 14,
      "outputs": []
    },
    {
      "cell_type": "code",
      "metadata": {
        "id": "tLUfCe3H5Dfi",
        "colab_type": "code",
        "colab": {}
      },
      "source": [
        "def my_function():\n",
        "  print(5)\n"
      ],
      "execution_count": 21,
      "outputs": []
    },
    {
      "cell_type": "code",
      "metadata": {
        "id": "qRcQUI3q5l0T",
        "colab_type": "code",
        "colab": {
          "base_uri": "https://localhost:8080/",
          "height": 34
        },
        "outputId": "a9d2b0c1-6b18-490d-9ef4-e17ed6952477"
      },
      "source": [
        "my_function()"
      ],
      "execution_count": 22,
      "outputs": [
        {
          "output_type": "stream",
          "text": [
            "5\n"
          ],
          "name": "stdout"
        }
      ]
    },
    {
      "cell_type": "markdown",
      "metadata": {
        "id": "ZvgDCSN-BpQE",
        "colab_type": "text"
      },
      "source": [
        "multilevel function & return statement"
      ]
    },
    {
      "cell_type": "code",
      "metadata": {
        "id": "XC8EX0m6-ics",
        "colab_type": "code",
        "colab": {}
      },
      "source": [
        "def me ():\n",
        "  return('hello function')"
      ],
      "execution_count": 30,
      "outputs": []
    },
    {
      "cell_type": "code",
      "metadata": {
        "id": "I5GELINYB9yv",
        "colab_type": "code",
        "colab": {}
      },
      "source": [
        "x = me()"
      ],
      "execution_count": 31,
      "outputs": []
    },
    {
      "cell_type": "code",
      "metadata": {
        "id": "OxAlcyYVCANn",
        "colab_type": "code",
        "colab": {
          "base_uri": "https://localhost:8080/",
          "height": 34
        },
        "outputId": "c4476305-5818-48eb-a470-f9809774ee56"
      },
      "source": [
        "print(x)"
      ],
      "execution_count": 32,
      "outputs": [
        {
          "output_type": "stream",
          "text": [
            "hello function\n"
          ],
          "name": "stdout"
        }
      ]
    },
    {
      "cell_type": "code",
      "metadata": {
        "id": "9Qdb7VolCBwY",
        "colab_type": "code",
        "colab": {}
      },
      "source": [
        "def you(x):\n",
        "  return x+3,x*4    # you can give n number of multiple return statements"
      ],
      "execution_count": 37,
      "outputs": []
    },
    {
      "cell_type": "code",
      "metadata": {
        "id": "clzAnKmdCbRC",
        "colab_type": "code",
        "colab": {}
      },
      "source": [
        "z,a = you(2)       #you declared variable can also be in n number."
      ],
      "execution_count": 41,
      "outputs": []
    },
    {
      "cell_type": "code",
      "metadata": {
        "id": "4MXO4XH7Cd3B",
        "colab_type": "code",
        "colab": {
          "base_uri": "https://localhost:8080/",
          "height": 34
        },
        "outputId": "0c49d3d3-cb51-478e-dcb7-95dd0db4212f"
      },
      "source": [
        "print(z)"
      ],
      "execution_count": 42,
      "outputs": [
        {
          "output_type": "stream",
          "text": [
            "5\n"
          ],
          "name": "stdout"
        }
      ]
    },
    {
      "cell_type": "code",
      "metadata": {
        "id": "76qvt5MaCiFG",
        "colab_type": "code",
        "colab": {
          "base_uri": "https://localhost:8080/",
          "height": 34
        },
        "outputId": "ad25313f-1c74-4feb-da74-83cb87a76741"
      },
      "source": [
        "print(a)"
      ],
      "execution_count": 43,
      "outputs": [
        {
          "output_type": "stream",
          "text": [
            "8\n"
          ],
          "name": "stdout"
        }
      ]
    },
    {
      "cell_type": "code",
      "metadata": {
        "id": "8j_PZ7lyC3NY",
        "colab_type": "code",
        "colab": {}
      },
      "source": [
        "def add(x,y):\n",
        "  return x+y\n",
        "\n",
        "a = add(2,3)\n",
        "\n",
        "#try to solve it."
      ],
      "execution_count": 48,
      "outputs": []
    },
    {
      "cell_type": "code",
      "metadata": {
        "id": "S4dFdorVFua2",
        "colab_type": "code",
        "colab": {
          "base_uri": "https://localhost:8080/",
          "height": 34
        },
        "outputId": "66dc2d89-6e8a-4f9c-859c-fae4c3e7fa25"
      },
      "source": [
        "print(a)"
      ],
      "execution_count": 49,
      "outputs": [
        {
          "output_type": "stream",
          "text": [
            "5\n"
          ],
          "name": "stdout"
        }
      ]
    },
    {
      "cell_type": "code",
      "metadata": {
        "id": "TAhcCNSdFwYl",
        "colab_type": "code",
        "colab": {}
      },
      "source": [
        "#list\n",
        "#List are the collection of data which is in ordered and can be changeable.It allow duplicate members."
      ],
      "execution_count": 52,
      "outputs": []
    },
    {
      "cell_type": "markdown",
      "metadata": {
        "id": "4Qfxk3mvI-DB",
        "colab_type": "text"
      },
      "source": [
        "How to create the list?"
      ]
    },
    {
      "cell_type": "code",
      "metadata": {
        "id": "GJzLKoLLI9Wg",
        "colab_type": "code",
        "colab": {}
      },
      "source": [
        "#type 1 - \n",
        "list = ['x','y','z']"
      ],
      "execution_count": 53,
      "outputs": []
    },
    {
      "cell_type": "code",
      "metadata": {
        "id": "rbKVOuagHd_m",
        "colab_type": "code",
        "colab": {
          "base_uri": "https://localhost:8080/",
          "height": 34
        },
        "outputId": "ace3ab10-7bf2-4990-b5bf-27ecf791ef00"
      },
      "source": [
        "print(list)"
      ],
      "execution_count": 54,
      "outputs": [
        {
          "output_type": "stream",
          "text": [
            "['x', 'y', 'z']\n"
          ],
          "name": "stdout"
        }
      ]
    },
    {
      "cell_type": "code",
      "metadata": {
        "id": "NtDDTqucKr1d",
        "colab_type": "code",
        "colab": {}
      },
      "source": [
        "#type 2 -\n",
        "x = ['a','d','w']"
      ],
      "execution_count": 55,
      "outputs": []
    },
    {
      "cell_type": "code",
      "metadata": {
        "id": "LRuIadu8K02Q",
        "colab_type": "code",
        "colab": {
          "base_uri": "https://localhost:8080/",
          "height": 34
        },
        "outputId": "bbcd7d03-5366-4a44-ef5c-235f76232070"
      },
      "source": [
        "print(x)"
      ],
      "execution_count": 56,
      "outputs": [
        {
          "output_type": "stream",
          "text": [
            "['a', 'd', 'w']\n"
          ],
          "name": "stdout"
        }
      ]
    },
    {
      "cell_type": "code",
      "metadata": {
        "id": "c3179YD7K2gf",
        "colab_type": "code",
        "colab": {}
      },
      "source": [
        "#acess data from a list\n",
        "list = ['Ram','Mohan','Sohan','Ravi']"
      ],
      "execution_count": 57,
      "outputs": []
    },
    {
      "cell_type": "code",
      "metadata": {
        "id": "FJ_SOAiuLSM9",
        "colab_type": "code",
        "colab": {
          "base_uri": "https://localhost:8080/",
          "height": 34
        },
        "outputId": "0af5815a-0c7c-4462-9412-28554ec2b919"
      },
      "source": [
        "print(list[1])"
      ],
      "execution_count": 62,
      "outputs": [
        {
          "output_type": "stream",
          "text": [
            "Mohan\n"
          ],
          "name": "stdout"
        }
      ]
    },
    {
      "cell_type": "code",
      "metadata": {
        "id": "ljKcbqsaLVok",
        "colab_type": "code",
        "colab": {
          "base_uri": "https://localhost:8080/",
          "height": 34
        },
        "outputId": "672f4b3e-f9b7-43b6-89e6-d1785caa2cb3"
      },
      "source": [
        "#negative indexing\n",
        "print(list[-3])"
      ],
      "execution_count": 64,
      "outputs": [
        {
          "output_type": "stream",
          "text": [
            "Mohan\n"
          ],
          "name": "stdout"
        }
      ]
    },
    {
      "cell_type": "code",
      "metadata": {
        "id": "b9rYhgbSL_Xw",
        "colab_type": "code",
        "colab": {}
      },
      "source": [
        "#range of the index\n",
        "list = ['audi','bmw','ferrari','bentely','scorpio','mahindra']"
      ],
      "execution_count": 65,
      "outputs": []
    },
    {
      "cell_type": "code",
      "metadata": {
        "id": "gnbK0T-WMeTB",
        "colab_type": "code",
        "colab": {
          "base_uri": "https://localhost:8080/",
          "height": 34
        },
        "outputId": "938b282a-3dec-496b-83ba-600ab74ecab7"
      },
      "source": [
        "print(list[0:4])"
      ],
      "execution_count": 69,
      "outputs": [
        {
          "output_type": "stream",
          "text": [
            "['audi', 'bmw', 'ferrari', 'bentely']\n"
          ],
          "name": "stdout"
        }
      ]
    },
    {
      "cell_type": "code",
      "metadata": {
        "id": "nw4f3L4iMiIF",
        "colab_type": "code",
        "colab": {
          "base_uri": "https://localhost:8080/",
          "height": 34
        },
        "outputId": "c9ccaeb7-d623-4691-ee19-b14e411eea06"
      },
      "source": [
        "#negative indexing\n",
        "print(list[-2:-1])"
      ],
      "execution_count": 72,
      "outputs": [
        {
          "output_type": "stream",
          "text": [
            "['scorpio']\n"
          ],
          "name": "stdout"
        }
      ]
    },
    {
      "cell_type": "code",
      "metadata": {
        "id": "uD5ErUnHNMw9",
        "colab_type": "code",
        "colab": {
          "base_uri": "https://localhost:8080/",
          "height": 34
        },
        "outputId": "f0657a0a-1226-4d5a-f3e0-ff49ecdda124"
      },
      "source": [
        "len(list[1])"
      ],
      "execution_count": 74,
      "outputs": [
        {
          "output_type": "execute_result",
          "data": {
            "text/plain": [
              "3"
            ]
          },
          "metadata": {
            "tags": []
          },
          "execution_count": 74
        }
      ]
    },
    {
      "cell_type": "code",
      "metadata": {
        "id": "DKgGeU75OG5O",
        "colab_type": "code",
        "colab": {}
      },
      "source": [
        "#task 3  - make a list and check the data is present in the list or not??\n",
        "# add data to list(add data)\n",
        "list = ['x','y','z']"
      ],
      "execution_count": 75,
      "outputs": []
    },
    {
      "cell_type": "code",
      "metadata": {
        "id": "96nGYc5aPIbo",
        "colab_type": "code",
        "colab": {}
      },
      "source": [
        "list.append('a')"
      ],
      "execution_count": 76,
      "outputs": []
    },
    {
      "cell_type": "code",
      "metadata": {
        "id": "aNyhKxy-PMNJ",
        "colab_type": "code",
        "colab": {
          "base_uri": "https://localhost:8080/",
          "height": 34
        },
        "outputId": "4682feb2-e09b-4a01-a7f1-22249dcd37a2"
      },
      "source": [
        "print(list)"
      ],
      "execution_count": 77,
      "outputs": [
        {
          "output_type": "stream",
          "text": [
            "['x', 'y', 'z', 'a']\n"
          ],
          "name": "stdout"
        }
      ]
    },
    {
      "cell_type": "code",
      "metadata": {
        "id": "0__Z5IYrPOQI",
        "colab_type": "code",
        "colab": {}
      },
      "source": [
        "#insert anything to the data \n",
        "list = ['a','b','c'] "
      ],
      "execution_count": 79,
      "outputs": []
    },
    {
      "cell_type": "code",
      "metadata": {
        "id": "OzkDdqPhPxQX",
        "colab_type": "code",
        "colab": {}
      },
      "source": [
        "list.insert(1,'mango')"
      ],
      "execution_count": 80,
      "outputs": []
    },
    {
      "cell_type": "code",
      "metadata": {
        "id": "TxAm-HOgQGpS",
        "colab_type": "code",
        "colab": {
          "base_uri": "https://localhost:8080/",
          "height": 34
        },
        "outputId": "8609f710-b273-4046-b49f-548ef7322d2a"
      },
      "source": [
        "print(list)"
      ],
      "execution_count": 81,
      "outputs": [
        {
          "output_type": "stream",
          "text": [
            "['a', 'mango', 'b', 'c']\n"
          ],
          "name": "stdout"
        }
      ]
    },
    {
      "cell_type": "code",
      "metadata": {
        "id": "CZn7HQSvQJJi",
        "colab_type": "code",
        "colab": {}
      },
      "source": [
        "#remove & empty function\n",
        "list = ['x','r']"
      ],
      "execution_count": 82,
      "outputs": []
    },
    {
      "cell_type": "code",
      "metadata": {
        "id": "NvxIDdtdRNxJ",
        "colab_type": "code",
        "colab": {
          "base_uri": "https://localhost:8080/",
          "height": 35
        },
        "outputId": "0616936e-4b41-4256-b6eb-0d7ef7525756"
      },
      "source": [
        "list.pop()"
      ],
      "execution_count": 83,
      "outputs": [
        {
          "output_type": "execute_result",
          "data": {
            "application/vnd.google.colaboratory.intrinsic": {
              "type": "string"
            },
            "text/plain": [
              "'r'"
            ]
          },
          "metadata": {
            "tags": []
          },
          "execution_count": 83
        }
      ]
    },
    {
      "cell_type": "code",
      "metadata": {
        "id": "cESfvkV0RRHp",
        "colab_type": "code",
        "colab": {
          "base_uri": "https://localhost:8080/",
          "height": 34
        },
        "outputId": "c174aec7-e41c-4956-9083-1906bef77c16"
      },
      "source": [
        "print(list)"
      ],
      "execution_count": 84,
      "outputs": [
        {
          "output_type": "stream",
          "text": [
            "['x']\n"
          ],
          "name": "stdout"
        }
      ]
    },
    {
      "cell_type": "code",
      "metadata": {
        "id": "04zMlKe5Rr6O",
        "colab_type": "code",
        "colab": {}
      },
      "source": [
        "#empty \n",
        "list = ['a','b','c']"
      ],
      "execution_count": 85,
      "outputs": []
    },
    {
      "cell_type": "code",
      "metadata": {
        "id": "6frfc75yR2NP",
        "colab_type": "code",
        "colab": {}
      },
      "source": [
        "list.clear()"
      ],
      "execution_count": 86,
      "outputs": []
    },
    {
      "cell_type": "code",
      "metadata": {
        "id": "jGU-oa5gR4yz",
        "colab_type": "code",
        "colab": {
          "base_uri": "https://localhost:8080/",
          "height": 34
        },
        "outputId": "7d7af890-de9b-4509-d062-e3d0de2cfe9b"
      },
      "source": [
        "print(list)"
      ],
      "execution_count": 87,
      "outputs": [
        {
          "output_type": "stream",
          "text": [
            "[]\n"
          ],
          "name": "stdout"
        }
      ]
    },
    {
      "cell_type": "code",
      "metadata": {
        "id": "ZUxqZS8WR6-w",
        "colab_type": "code",
        "colab": {}
      },
      "source": [
        "# task 4 - tuples are same as of list in some way, try to do the function which \n",
        "#we have perform in list with tuples."
      ],
      "execution_count": null,
      "outputs": []
    }
  ]
}