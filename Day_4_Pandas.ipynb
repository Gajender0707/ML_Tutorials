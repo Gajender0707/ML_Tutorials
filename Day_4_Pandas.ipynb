{
  "nbformat": 4,
  "nbformat_minor": 0,
  "metadata": {
    "colab": {
      "name": "Day-4 Pandas.ipynb",
      "provenance": []
    },
    "kernelspec": {
      "name": "python3",
      "display_name": "Python 3"
    }
  },
  "cells": [
    {
      "cell_type": "markdown",
      "metadata": {
        "id": "7CVZ0dzQ-uc5",
        "colab_type": "text"
      },
      "source": [
        "Pandas"
      ]
    },
    {
      "cell_type": "markdown",
      "metadata": {
        "id": "-4ZtZ3MP-yJJ",
        "colab_type": "text"
      },
      "source": [
        "It is high -level data manipulation tool developed by Wes McKinney.It is built on the platform of Numpy package.\n",
        "\n",
        "Its key Data structure is called Data Frames and Data Frames allow you to store data in tabular form."
      ]
    },
    {
      "cell_type": "markdown",
      "metadata": {
        "id": "1psh6VyY_R0T",
        "colab_type": "text"
      },
      "source": [
        "Why we are using Pandas??\n",
        "\n",
        "It is a software library written for Python programming for Data Manipulation & Data Analysis.\n",
        "\n",
        "It also offer data structure for manipulation of numerical data and time series."
      ]
    },
    {
      "cell_type": "markdown",
      "metadata": {
        "id": "HkeNUAeAAcr0",
        "colab_type": "text"
      },
      "source": [
        "Pandas can read 2 type of data structure\n",
        "\n",
        "1. Series - 1dimension labeled homogenous array.\n",
        "\n",
        "2. Data Frame - 2dimension tabular structure."
      ]
    },
    {
      "cell_type": "code",
      "metadata": {
        "id": "J3VRzekN8WI0",
        "colab_type": "code",
        "colab": {}
      },
      "source": [
        "#series\n",
        "#dataframe\n",
        "import pandas as pd\n"
      ],
      "execution_count": 1,
      "outputs": []
    },
    {
      "cell_type": "code",
      "metadata": {
        "id": "tvw2ugiuB4vW",
        "colab_type": "code",
        "colab": {}
      },
      "source": [
        "#Pandas series\n",
        "#make a list\n",
        "a = [1,2.3,'ankit']\n",
        "list = [1,2.3,'hhjkh']"
      ],
      "execution_count": 4,
      "outputs": []
    },
    {
      "cell_type": "code",
      "metadata": {
        "id": "aQpchx-ACYEy",
        "colab_type": "code",
        "colab": {
          "base_uri": "https://localhost:8080/",
          "height": 34
        },
        "outputId": "3b333d44-bca1-4f1f-e0d7-687667f6c226"
      },
      "source": [
        "type(a)"
      ],
      "execution_count": 3,
      "outputs": [
        {
          "output_type": "execute_result",
          "data": {
            "text/plain": [
              "list"
            ]
          },
          "metadata": {
            "tags": []
          },
          "execution_count": 3
        }
      ]
    },
    {
      "cell_type": "code",
      "metadata": {
        "id": "gavAvQjDCfhz",
        "colab_type": "code",
        "colab": {}
      },
      "source": [
        "z = pd.Series(a)"
      ],
      "execution_count": 5,
      "outputs": []
    },
    {
      "cell_type": "code",
      "metadata": {
        "id": "sviSUIEbDASb",
        "colab_type": "code",
        "colab": {
          "base_uri": "https://localhost:8080/",
          "height": 86
        },
        "outputId": "5ade290b-3490-45ea-d60d-22bf19ce378f"
      },
      "source": [
        "print(z)"
      ],
      "execution_count": 6,
      "outputs": [
        {
          "output_type": "stream",
          "text": [
            "0        1\n",
            "1      2.3\n",
            "2    ankit\n",
            "dtype: object\n"
          ],
          "name": "stdout"
        }
      ]
    },
    {
      "cell_type": "code",
      "metadata": {
        "id": "E76W2OpgDCh3",
        "colab_type": "code",
        "colab": {}
      },
      "source": [
        "#shortcut method\n",
        "x = pd.Series([222,3.4432,'amit'])"
      ],
      "execution_count": 7,
      "outputs": []
    },
    {
      "cell_type": "code",
      "metadata": {
        "id": "5cWnJKtjDZiO",
        "colab_type": "code",
        "colab": {
          "base_uri": "https://localhost:8080/",
          "height": 86
        },
        "outputId": "7f4868dc-ce7b-4640-86f2-ac6c243751c7"
      },
      "source": [
        "print(x)"
      ],
      "execution_count": 8,
      "outputs": [
        {
          "output_type": "stream",
          "text": [
            "0       222\n",
            "1    3.4432\n",
            "2      amit\n",
            "dtype: object\n"
          ],
          "name": "stdout"
        }
      ]
    },
    {
      "cell_type": "code",
      "metadata": {
        "id": "5HJRssc9DbK1",
        "colab_type": "code",
        "colab": {
          "base_uri": "https://localhost:8080/",
          "height": 34
        },
        "outputId": "39a05a3e-c4e8-4f3e-f4bc-31632a6953a0"
      },
      "source": [
        "type(x)"
      ],
      "execution_count": 9,
      "outputs": [
        {
          "output_type": "execute_result",
          "data": {
            "text/plain": [
              "pandas.core.series.Series"
            ]
          },
          "metadata": {
            "tags": []
          },
          "execution_count": 9
        }
      ]
    },
    {
      "cell_type": "code",
      "metadata": {
        "id": "33Lf7DCIDn2c",
        "colab_type": "code",
        "colab": {}
      },
      "source": [
        "#empty list\n",
        "x = [1,222,'ghjgjh']"
      ],
      "execution_count": 11,
      "outputs": []
    },
    {
      "cell_type": "code",
      "metadata": {
        "id": "UAD42YPEEAeR",
        "colab_type": "code",
        "colab": {
          "base_uri": "https://localhost:8080/",
          "height": 34
        },
        "outputId": "680e8c33-ec80-45d0-d836-745921965ebe"
      },
      "source": [
        "type(x)"
      ],
      "execution_count": 12,
      "outputs": [
        {
          "output_type": "execute_result",
          "data": {
            "text/plain": [
              "list"
            ]
          },
          "metadata": {
            "tags": []
          },
          "execution_count": 12
        }
      ]
    },
    {
      "cell_type": "code",
      "metadata": {
        "id": "oAg4SVWMEJEF",
        "colab_type": "code",
        "colab": {
          "base_uri": "https://localhost:8080/",
          "height": 86
        },
        "outputId": "e5972334-7061-4f53-c254-7bd7f29ca1ea"
      },
      "source": [
        "z = pd.Series(x)\n",
        "print(z)"
      ],
      "execution_count": 13,
      "outputs": [
        {
          "output_type": "stream",
          "text": [
            "0         1\n",
            "1       222\n",
            "2    ghjgjh\n",
            "dtype: object\n"
          ],
          "name": "stdout"
        }
      ]
    },
    {
      "cell_type": "code",
      "metadata": {
        "id": "4h2D7hCcEQ1T",
        "colab_type": "code",
        "colab": {
          "base_uri": "https://localhost:8080/",
          "height": 34
        },
        "outputId": "920b6e84-4c8b-418b-85e3-246fa08fefed"
      },
      "source": [
        "type(z)"
      ],
      "execution_count": 14,
      "outputs": [
        {
          "output_type": "execute_result",
          "data": {
            "text/plain": [
              "pandas.core.series.Series"
            ]
          },
          "metadata": {
            "tags": []
          },
          "execution_count": 14
        }
      ]
    },
    {
      "cell_type": "code",
      "metadata": {
        "id": "5gHTYBT6ESc9",
        "colab_type": "code",
        "colab": {
          "base_uri": "https://localhost:8080/",
          "height": 88
        },
        "outputId": "2c91f0be-a7e8-47d7-decc-a3617134fe8a"
      },
      "source": [
        "z= pd.Series( )\n",
        "print(z)"
      ],
      "execution_count": 16,
      "outputs": [
        {
          "output_type": "stream",
          "text": [
            "Series([], dtype: float64)\n"
          ],
          "name": "stdout"
        },
        {
          "output_type": "stream",
          "text": [
            "/usr/local/lib/python3.6/dist-packages/ipykernel_launcher.py:1: DeprecationWarning: The default dtype for empty Series will be 'object' instead of 'float64' in a future version. Specify a dtype explicitly to silence this warning.\n",
            "  \"\"\"Entry point for launching an IPython kernel.\n"
          ],
          "name": "stderr"
        }
      ]
    },
    {
      "cell_type": "code",
      "metadata": {
        "id": "8cVpWPn3EYeV",
        "colab_type": "code",
        "colab": {
          "base_uri": "https://localhost:8080/",
          "height": 34
        },
        "outputId": "9689f2f5-2adb-4ac8-b78a-891dbdc8e514"
      },
      "source": [
        "type(z)"
      ],
      "execution_count": 17,
      "outputs": [
        {
          "output_type": "execute_result",
          "data": {
            "text/plain": [
              "pandas.core.series.Series"
            ]
          },
          "metadata": {
            "tags": []
          },
          "execution_count": 17
        }
      ]
    },
    {
      "cell_type": "code",
      "metadata": {
        "id": "1Y-ji6zaEdm4",
        "colab_type": "code",
        "colab": {
          "base_uri": "https://localhost:8080/",
          "height": 103
        },
        "outputId": "0f7a856a-d085-48d9-a0cc-8be6278228b2"
      },
      "source": [
        "# change the index of the series\n",
        "a = pd.Series([1,2,3,4],index= ['a','b','c','d'])\n",
        "print(a)"
      ],
      "execution_count": 21,
      "outputs": [
        {
          "output_type": "stream",
          "text": [
            "a    1\n",
            "b    2\n",
            "c    3\n",
            "d    4\n",
            "dtype: int64\n"
          ],
          "name": "stdout"
        }
      ]
    },
    {
      "cell_type": "code",
      "metadata": {
        "id": "d6B7NbCQFO6t",
        "colab_type": "code",
        "colab": {}
      },
      "source": [
        "#task - using pandas data series ,create a list and change its index to p,q,r,s\n",
        "#ankit@infizeal.com"
      ],
      "execution_count": 22,
      "outputs": []
    },
    {
      "cell_type": "code",
      "metadata": {
        "id": "PNiaymv5H6LL",
        "colab_type": "code",
        "colab": {}
      },
      "source": [
        "#type - int, float, string/object\n",
        "#int - regular kind of data -0,1,2,3,4,...... n\n",
        "#float - 1.2,7.6,8.6\n",
        "#object - 1,2.5,'hghggh'\n",
        "#change the type of data\n",
        "\n",
        "a = pd.Series([1,2,3,4],dtype=float)"
      ],
      "execution_count": 29,
      "outputs": []
    },
    {
      "cell_type": "code",
      "metadata": {
        "id": "JYbh87V-KVXg",
        "colab_type": "code",
        "colab": {
          "base_uri": "https://localhost:8080/",
          "height": 103
        },
        "outputId": "712ada54-461a-4c14-c365-263a27f5676a"
      },
      "source": [
        "print(a)"
      ],
      "execution_count": 30,
      "outputs": [
        {
          "output_type": "stream",
          "text": [
            "0    1.0\n",
            "1    2.0\n",
            "2    3.0\n",
            "3    4.0\n",
            "dtype: float64\n"
          ],
          "name": "stdout"
        }
      ]
    },
    {
      "cell_type": "code",
      "metadata": {
        "id": "jwVwAovOKW99",
        "colab_type": "code",
        "colab": {
          "base_uri": "https://localhost:8080/",
          "height": 137
        },
        "outputId": "3b672eb6-3105-42fb-ecd2-1190c889af8d"
      },
      "source": [
        "#how to labeled your data\n",
        "a = pd.Series([1,2,3,4,2.3,33.4],name = 'Price in rupees')\n",
        "print(a)"
      ],
      "execution_count": 34,
      "outputs": [
        {
          "output_type": "stream",
          "text": [
            "0     1.0\n",
            "1     2.0\n",
            "2     3.0\n",
            "3     4.0\n",
            "4     2.3\n",
            "5    33.4\n",
            "Name: Price in rupees, dtype: float64\n"
          ],
          "name": "stdout"
        }
      ]
    },
    {
      "cell_type": "code",
      "metadata": {
        "id": "g-fvhxaYL4ZU",
        "colab_type": "code",
        "colab": {}
      },
      "source": [
        "# task - create a data series with making a list,change the name of the \n",
        "#index also change the its dtype & name."
      ],
      "execution_count": 35,
      "outputs": []
    },
    {
      "cell_type": "code",
      "metadata": {
        "id": "x32Mz36OSDq5",
        "colab_type": "code",
        "colab": {
          "base_uri": "https://localhost:8080/",
          "height": 34
        },
        "outputId": "4e67a45f-1990-48e0-f5a0-ad1956b9a7c8"
      },
      "source": [
        "dict = {'a':1,'b':2,'d':78}\n",
        "print(dict)"
      ],
      "execution_count": 37,
      "outputs": [
        {
          "output_type": "stream",
          "text": [
            "{'a': 1, 'b': 2, 'd': 78}\n"
          ],
          "name": "stdout"
        }
      ]
    },
    {
      "cell_type": "code",
      "metadata": {
        "id": "XuCvWo6rSjE0",
        "colab_type": "code",
        "colab": {}
      },
      "source": [
        "# dict with pandas data series\n",
        "dict = pd.Series({'a':2,'h':67,'k':34})"
      ],
      "execution_count": 38,
      "outputs": []
    },
    {
      "cell_type": "code",
      "metadata": {
        "id": "_HZnNZErTPpj",
        "colab_type": "code",
        "colab": {
          "base_uri": "https://localhost:8080/",
          "height": 86
        },
        "outputId": "f1fcb934-b505-49b2-841f-7e28343920a8"
      },
      "source": [
        "print(dict)"
      ],
      "execution_count": 39,
      "outputs": [
        {
          "output_type": "stream",
          "text": [
            "a     2\n",
            "h    67\n",
            "k    34\n",
            "dtype: int64\n"
          ],
          "name": "stdout"
        }
      ]
    },
    {
      "cell_type": "code",
      "metadata": {
        "id": "kmbXWCKsTRbx",
        "colab_type": "code",
        "colab": {
          "base_uri": "https://localhost:8080/",
          "height": 103
        },
        "outputId": "66f2c2d5-bef9-4060-a7bf-db1ee615cd60"
      },
      "source": [
        "#operation\n",
        "s= pd.Series([1,2,3,4])\n",
        "print(s)"
      ],
      "execution_count": 40,
      "outputs": [
        {
          "output_type": "stream",
          "text": [
            "0    1\n",
            "1    2\n",
            "2    3\n",
            "3    4\n",
            "dtype: int64\n"
          ],
          "name": "stdout"
        }
      ]
    },
    {
      "cell_type": "code",
      "metadata": {
        "id": "Gy2sd7w3TrZH",
        "colab_type": "code",
        "colab": {
          "base_uri": "https://localhost:8080/",
          "height": 34
        },
        "outputId": "ff6fc76d-19fc-4d64-809c-5ce9831e2fca"
      },
      "source": [
        "s[0]"
      ],
      "execution_count": 41,
      "outputs": [
        {
          "output_type": "execute_result",
          "data": {
            "text/plain": [
              "1"
            ]
          },
          "metadata": {
            "tags": []
          },
          "execution_count": 41
        }
      ]
    },
    {
      "cell_type": "code",
      "metadata": {
        "id": "NYyDH_p4TuvT",
        "colab_type": "code",
        "colab": {
          "base_uri": "https://localhost:8080/",
          "height": 34
        },
        "outputId": "4b9947bd-5571-4ca5-a3cf-5f76fe49365b"
      },
      "source": [
        "s[3]"
      ],
      "execution_count": 42,
      "outputs": [
        {
          "output_type": "execute_result",
          "data": {
            "text/plain": [
              "4"
            ]
          },
          "metadata": {
            "tags": []
          },
          "execution_count": 42
        }
      ]
    },
    {
      "cell_type": "code",
      "metadata": {
        "id": "IjoOC4BFTzRK",
        "colab_type": "code",
        "colab": {
          "base_uri": "https://localhost:8080/",
          "height": 34
        },
        "outputId": "15b1cc06-0700-4064-a30d-a3a5790d6f70"
      },
      "source": [
        "s[2]"
      ],
      "execution_count": 44,
      "outputs": [
        {
          "output_type": "execute_result",
          "data": {
            "text/plain": [
              "3"
            ]
          },
          "metadata": {
            "tags": []
          },
          "execution_count": 44
        }
      ]
    },
    {
      "cell_type": "code",
      "metadata": {
        "id": "GI-PbAi4T0_d",
        "colab_type": "code",
        "colab": {}
      },
      "source": [
        "#slicing the data \n",
        "s=pd.Series([1,2,3,4,5,6,7,8,9])"
      ],
      "execution_count": 45,
      "outputs": []
    },
    {
      "cell_type": "code",
      "metadata": {
        "id": "BI4hyPgcVVGj",
        "colab_type": "code",
        "colab": {
          "base_uri": "https://localhost:8080/",
          "height": 188
        },
        "outputId": "bbed3e02-b4cc-4719-a7cc-1486da2514f1"
      },
      "source": [
        "print(s)"
      ],
      "execution_count": 46,
      "outputs": [
        {
          "output_type": "stream",
          "text": [
            "0    1\n",
            "1    2\n",
            "2    3\n",
            "3    4\n",
            "4    5\n",
            "5    6\n",
            "6    7\n",
            "7    8\n",
            "8    9\n",
            "dtype: int64\n"
          ],
          "name": "stdout"
        }
      ]
    },
    {
      "cell_type": "code",
      "metadata": {
        "id": "XnRwjtGwVWqT",
        "colab_type": "code",
        "colab": {
          "base_uri": "https://localhost:8080/",
          "height": 86
        },
        "outputId": "cfd50002-3b7e-4117-f80f-a035ac7cdfd7"
      },
      "source": [
        "s[0:3]"
      ],
      "execution_count": 47,
      "outputs": [
        {
          "output_type": "execute_result",
          "data": {
            "text/plain": [
              "0    1\n",
              "1    2\n",
              "2    3\n",
              "dtype: int64"
            ]
          },
          "metadata": {
            "tags": []
          },
          "execution_count": 47
        }
      ]
    },
    {
      "cell_type": "code",
      "metadata": {
        "id": "Fr1ciwJqVbQK",
        "colab_type": "code",
        "colab": {
          "base_uri": "https://localhost:8080/",
          "height": 34
        },
        "outputId": "68f98528-5343-4f6b-b618-0ab494f6abff"
      },
      "source": [
        "#max\n",
        "#min\n",
        "#greater than\n",
        "#less than\n",
        "a= min(s)\n",
        "print(a)"
      ],
      "execution_count": 52,
      "outputs": [
        {
          "output_type": "stream",
          "text": [
            "1\n"
          ],
          "name": "stdout"
        }
      ]
    },
    {
      "cell_type": "code",
      "metadata": {
        "id": "v_eDjfQ6WM9F",
        "colab_type": "code",
        "colab": {
          "base_uri": "https://localhost:8080/",
          "height": 34
        },
        "outputId": "a8fc2964-9895-4ea5-875d-6ae42330664b"
      },
      "source": [
        "z = max(s)\n",
        "print(z)"
      ],
      "execution_count": 53,
      "outputs": [
        {
          "output_type": "stream",
          "text": [
            "9\n"
          ],
          "name": "stdout"
        }
      ]
    },
    {
      "cell_type": "code",
      "metadata": {
        "id": "uuB9A8eZWS8X",
        "colab_type": "code",
        "colab": {
          "base_uri": "https://localhost:8080/",
          "height": 137
        },
        "outputId": "db9381a4-997c-49f9-ed36-5d3bc73995f2"
      },
      "source": [
        "#greater than\n",
        "s[s>3]"
      ],
      "execution_count": 54,
      "outputs": [
        {
          "output_type": "execute_result",
          "data": {
            "text/plain": [
              "3    4\n",
              "4    5\n",
              "5    6\n",
              "6    7\n",
              "7    8\n",
              "8    9\n",
              "dtype: int64"
            ]
          },
          "metadata": {
            "tags": []
          },
          "execution_count": 54
        }
      ]
    },
    {
      "cell_type": "code",
      "metadata": {
        "id": "27q5eafiXHT0",
        "colab_type": "code",
        "colab": {
          "base_uri": "https://localhost:8080/",
          "height": 68
        },
        "outputId": "f04d33a7-ffca-4cc9-df85-171ae012db1d"
      },
      "source": [
        "#less than\n",
        "s[s<3]"
      ],
      "execution_count": 55,
      "outputs": [
        {
          "output_type": "execute_result",
          "data": {
            "text/plain": [
              "0    1\n",
              "1    2\n",
              "dtype: int64"
            ]
          },
          "metadata": {
            "tags": []
          },
          "execution_count": 55
        }
      ]
    },
    {
      "cell_type": "code",
      "metadata": {
        "id": "NF5_-xE4XNwQ",
        "colab_type": "code",
        "colab": {
          "base_uri": "https://localhost:8080/",
          "height": 103
        },
        "outputId": "cdb35137-b53c-4eb8-c288-4e225b839dc9"
      },
      "source": [
        "# adding two data series\n",
        "a= pd.Series([1,2,3,4])\n",
        "b= pd.Series([5,6,7])\n",
        "print(a+b)\n",
        "#NaN - not a number"
      ],
      "execution_count": 57,
      "outputs": [
        {
          "output_type": "stream",
          "text": [
            "0     6.0\n",
            "1     8.0\n",
            "2    10.0\n",
            "3     NaN\n",
            "dtype: float64\n"
          ],
          "name": "stdout"
        }
      ]
    },
    {
      "cell_type": "markdown",
      "metadata": {
        "id": "oMWO7Evjb5A3",
        "colab_type": "text"
      },
      "source": [
        "Data Frames - 2d ,size mutable, tabular data structure with labeled axis i.e - rows & columns."
      ]
    },
    {
      "cell_type": "code",
      "metadata": {
        "id": "gf2HA8TrYbEr",
        "colab_type": "code",
        "colab": {}
      },
      "source": [
        "#creating dataframe with list\n",
        "list = [1,2,3,4]\n",
        "df = pd.DataFrame(list)"
      ],
      "execution_count": 58,
      "outputs": []
    },
    {
      "cell_type": "code",
      "metadata": {
        "id": "TvpfXd_adFiu",
        "colab_type": "code",
        "colab": {
          "base_uri": "https://localhost:8080/",
          "height": 103
        },
        "outputId": "af2d3c00-5fc5-488d-d4c1-b752a9007f2d"
      },
      "source": [
        "print(df)"
      ],
      "execution_count": 59,
      "outputs": [
        {
          "output_type": "stream",
          "text": [
            "   0\n",
            "0  1\n",
            "1  2\n",
            "2  3\n",
            "3  4\n"
          ],
          "name": "stdout"
        }
      ]
    },
    {
      "cell_type": "code",
      "metadata": {
        "id": "sTdtLXgqdHS5",
        "colab_type": "code",
        "colab": {
          "base_uri": "https://localhost:8080/",
          "height": 86
        },
        "outputId": "823ca4bc-f006-4101-e7a4-697a81c84746"
      },
      "source": [
        "#create empty data frame\n",
        "emp_df = [2,3,4]\n",
        "df = pd.DataFrame(emp_df)\n",
        "print(df)"
      ],
      "execution_count": 60,
      "outputs": [
        {
          "output_type": "stream",
          "text": [
            "   0\n",
            "0  2\n",
            "1  3\n",
            "2  4\n"
          ],
          "name": "stdout"
        }
      ]
    },
    {
      "cell_type": "code",
      "metadata": {
        "id": "rFiIPexteCWv",
        "colab_type": "code",
        "colab": {
          "base_uri": "https://localhost:8080/",
          "height": 68
        },
        "outputId": "2e9dd1f0-8dc5-45f5-c918-1e69a85e7b41"
      },
      "source": [
        "df=pd.DataFrame()\n",
        "print(df)"
      ],
      "execution_count": 61,
      "outputs": [
        {
          "output_type": "stream",
          "text": [
            "Empty DataFrame\n",
            "Columns: []\n",
            "Index: []\n"
          ],
          "name": "stdout"
        }
      ]
    },
    {
      "cell_type": "markdown",
      "metadata": {
        "id": "sKrIU3HcffHA",
        "colab_type": "text"
      },
      "source": [
        "How to create multiple columns?\n",
        "\n",
        "1. Make a list.\n",
        "\n",
        "2. Make a DataFrame."
      ]
    },
    {
      "cell_type": "code",
      "metadata": {
        "id": "vvMU3MzFeKhW",
        "colab_type": "code",
        "colab": {
          "base_uri": "https://localhost:8080/",
          "height": 86
        },
        "outputId": "b5dc3ad8-8f3b-4635-a475-19216b27dc52"
      },
      "source": [
        "list = [[1,2,3],[2,3,4,6],[3,4,5]]\n",
        "df = pd.DataFrame(list)\n",
        "print(df)"
      ],
      "execution_count": 65,
      "outputs": [
        {
          "output_type": "stream",
          "text": [
            "   0  1  2    3\n",
            "0  1  2  3  NaN\n",
            "1  2  3  4  6.0\n",
            "2  3  4  5  NaN\n"
          ],
          "name": "stdout"
        }
      ]
    },
    {
      "cell_type": "code",
      "metadata": {
        "id": "NUQ-nWQLf3_a",
        "colab_type": "code",
        "colab": {
          "base_uri": "https://localhost:8080/",
          "height": 86
        },
        "outputId": "d6ff6d74-302b-4aca-b154-f24d0180614a"
      },
      "source": [
        "# Creating Dataframe with dict\n",
        "dict = {'a':[1,2,3],'b':[22.34,66,2],'c':[2,1,3]}\n",
        "df = pd.DataFrame(dict)\n",
        "print(df)"
      ],
      "execution_count": 70,
      "outputs": [
        {
          "output_type": "stream",
          "text": [
            "   a      b  c\n",
            "0  1  22.34  2\n",
            "1  2  66.00  1\n",
            "2  3   2.00  3\n"
          ],
          "name": "stdout"
        }
      ]
    },
    {
      "cell_type": "code",
      "metadata": {
        "id": "6bI4Gh_bhkPI",
        "colab_type": "code",
        "colab": {
          "base_uri": "https://localhost:8080/",
          "height": 34
        },
        "outputId": "14f3feb2-fbcd-45b1-9063-a614553858c1"
      },
      "source": [
        "type(df)"
      ],
      "execution_count": 68,
      "outputs": [
        {
          "output_type": "execute_result",
          "data": {
            "text/plain": [
              "pandas.core.frame.DataFrame"
            ]
          },
          "metadata": {
            "tags": []
          },
          "execution_count": 68
        }
      ]
    },
    {
      "cell_type": "code",
      "metadata": {
        "id": "wg3VHs1thvvZ",
        "colab_type": "code",
        "colab": {
          "base_uri": "https://localhost:8080/",
          "height": 68
        },
        "outputId": "d6c9b797-1237-42e4-8314-87ba5e3f8a6f"
      },
      "source": [
        "#list of dict\n",
        "list_of_dict=[{'a':1,'b':2},{'a':4,'b':22,'c':7}]\n",
        "df = pd.DataFrame(list_of_dict)\n",
        "print(df)\n"
      ],
      "execution_count": 74,
      "outputs": [
        {
          "output_type": "stream",
          "text": [
            "   a   b    c\n",
            "0  1   2  NaN\n",
            "1  4  22  7.0\n"
          ],
          "name": "stdout"
        }
      ]
    },
    {
      "cell_type": "code",
      "metadata": {
        "id": "c3uidmNgjNmR",
        "colab_type": "code",
        "colab": {}
      },
      "source": [
        ""
      ],
      "execution_count": null,
      "outputs": []
    }
  ]
}