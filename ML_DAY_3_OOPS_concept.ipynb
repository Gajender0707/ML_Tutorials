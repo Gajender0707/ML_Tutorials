{
  "nbformat": 4,
  "nbformat_minor": 0,
  "metadata": {
    "colab": {
      "name": "ML DAY-3 OOPS concept.ipynb",
      "provenance": []
    },
    "kernelspec": {
      "name": "python3",
      "display_name": "Python 3"
    }
  },
  "cells": [
    {
      "cell_type": "markdown",
      "metadata": {
        "id": "BwODpC5T5BQv",
        "colab_type": "text"
      },
      "source": [
        "What is OOPS??\n",
        "\n",
        "Object Oriented Programming is concept refer to software design in which developers define the data type of the data structure."
      ]
    },
    {
      "cell_type": "markdown",
      "metadata": {
        "id": "l7JKAn6y5bcu",
        "colab_type": "text"
      },
      "source": [
        "There are 4 pillar of OOPS\n",
        "\n",
        "Class & Object\n",
        "\n",
        "Encapsulation\n",
        "\n",
        "Abstraction\n",
        "\n",
        "Polymorphism\n",
        "\n",
        "Inheritance"
      ]
    },
    {
      "cell_type": "markdown",
      "metadata": {
        "id": "005XFChv6GAY",
        "colab_type": "text"
      },
      "source": [
        "How to create class & object in OOPS."
      ]
    },
    {
      "cell_type": "code",
      "metadata": {
        "id": "Qup9OVao46Hn",
        "colab_type": "code",
        "colab": {
          "base_uri": "https://localhost:8080/",
          "height": 34
        },
        "outputId": "509b783e-d3f1-4da1-f25b-6c48c3aea2ce"
      },
      "source": [
        "#creating the class\n",
        "class student:     #class\n",
        "  name = 'Rohan'   #attribute\n",
        "\n",
        "stud = student()   #object\n",
        "print(stud.name)   "
      ],
      "execution_count": 4,
      "outputs": [
        {
          "output_type": "stream",
          "text": [
            "Rohan\n"
          ],
          "name": "stdout"
        }
      ]
    },
    {
      "cell_type": "code",
      "metadata": {
        "id": "TkCBuZql6XhM",
        "colab_type": "code",
        "colab": {
          "base_uri": "https://localhost:8080/",
          "height": 34
        },
        "outputId": "f02db4e0-348b-4c20-c808-2ec7a95e4fa8"
      },
      "source": [
        "#multilevel object creation\n",
        "class emp:\n",
        "  name = 'Ram'\n",
        "  salary = '50k'\n",
        "\n",
        "emp1 = emp()\n",
        "#emp2 = emp()\n",
        "\n",
        "print(emp1.salary)\n",
        "#print(emp2.name)"
      ],
      "execution_count": 6,
      "outputs": [
        {
          "output_type": "stream",
          "text": [
            "50k\n"
          ],
          "name": "stdout"
        }
      ]
    },
    {
      "cell_type": "code",
      "metadata": {
        "id": "RIoPJzQ9-6E0",
        "colab_type": "code",
        "colab": {}
      },
      "source": [
        "#Task 5 - create a class and object with multiple attributes\n",
        "#with the single object. \n",
        "#ankit@infizeal.com\n",
        "#5min only"
      ],
      "execution_count": 7,
      "outputs": []
    },
    {
      "cell_type": "markdown",
      "metadata": {
        "id": "mp1puDduC5D9",
        "colab_type": "text"
      },
      "source": [
        "Constructor - It is a subroutine which is used to call or create the object.\n"
      ]
    },
    {
      "cell_type": "code",
      "metadata": {
        "id": "ArueoNiPAJzE",
        "colab_type": "code",
        "colab": {
          "base_uri": "https://localhost:8080/",
          "height": 34
        },
        "outputId": "04cb70d0-a8c4-4367-99f4-88a4f5fbaab9"
      },
      "source": [
        "#how to create the constructor in OOPS concept.\n",
        "class car:\n",
        "  def __init__(self,color):\n",
        "    self.color = color\n",
        "\n",
        "\n",
        "car1 = car('black')\n",
        "print(car1.color)"
      ],
      "execution_count": 11,
      "outputs": [
        {
          "output_type": "stream",
          "text": [
            "black\n"
          ],
          "name": "stdout"
        }
      ]
    },
    {
      "cell_type": "code",
      "metadata": {
        "id": "7kI6ib7eDsJ_",
        "colab_type": "code",
        "colab": {
          "base_uri": "https://localhost:8080/",
          "height": 51
        },
        "outputId": "6a73343f-6a17-4995-8998-9c381228726b"
      },
      "source": [
        "class car:\n",
        "  def __init__(self,name,price,color):\n",
        "    self.name=name\n",
        "    self.price=price\n",
        "    self.color= color\n",
        "\n",
        "audi = car('AUDI','50lakh','RED')\n",
        "print(audi.color)\n",
        "print(audi.price)"
      ],
      "execution_count": 15,
      "outputs": [
        {
          "output_type": "stream",
          "text": [
            "RED\n",
            "50lakh\n"
          ],
          "name": "stdout"
        }
      ]
    },
    {
      "cell_type": "markdown",
      "metadata": {
        "id": "aF8wyBaFKXTi",
        "colab_type": "text"
      },
      "source": [
        "Encapsulation - It is defined as the cover/wrapping of the data under a single unit.\n",
        "\n",
        "Ex - you know the object car but dont know how this abs of the car is connected to the wheels of the car.\n"
      ]
    },
    {
      "cell_type": "code",
      "metadata": {
        "id": "5Rwf9L-FLJGS",
        "colab_type": "code",
        "colab": {
          "base_uri": "https://localhost:8080/",
          "height": 34
        },
        "outputId": "da654223-12b9-475e-f1e9-ea42d195959c"
      },
      "source": [
        "class car:\n",
        "  def __init__(self,brand,speed):\n",
        "    self.brand = brand\n",
        "    self.speed = speed\n",
        "\n",
        "\n",
        "ford = car('ford',200)\n",
        "bmw = car('bmw',300)\n",
        "\n",
        "bmw.speed = 1200\n",
        "\n",
        "print(bmw.speed)"
      ],
      "execution_count": 32,
      "outputs": [
        {
          "output_type": "stream",
          "text": [
            "1200\n"
          ],
          "name": "stdout"
        }
      ]
    },
    {
      "cell_type": "markdown",
      "metadata": {
        "id": "7jT0hXY7V3cW",
        "colab_type": "text"
      },
      "source": [
        "Encapsulation"
      ]
    },
    {
      "cell_type": "code",
      "metadata": {
        "id": "phUXb1mMMcbY",
        "colab_type": "code",
        "colab": {
          "base_uri": "https://localhost:8080/",
          "height": 34
        },
        "outputId": "8543f017-7f8e-4511-ffa5-e9b2df09459e"
      },
      "source": [
        "#calulate the area of rectangle\n",
        "\n",
        "class rectangle:\n",
        "  def __init__(self,height,width):\n",
        "    self.__height=height\n",
        "    self.__width=width\n",
        "  \n",
        "  def set_height(self,height):   #setter\n",
        "    self.__height=height\n",
        "  \n",
        "  def get_height(self):          #getter\n",
        "    return self.__height\n",
        "\n",
        "  def set_width(self,width):   #setter\n",
        "    self.__width=width\n",
        "  \n",
        "  def get_width(self):          #getter\n",
        "    return self.__width \n",
        "  \n",
        "  def area(self):\n",
        "    return self.__height * self.__width\n",
        "\n",
        "rect1 = rectangle(20,40)\n",
        "rect1.height=30\n",
        "print(rect1.area())"
      ],
      "execution_count": 34,
      "outputs": [
        {
          "output_type": "stream",
          "text": [
            "800\n"
          ],
          "name": "stdout"
        }
      ]
    },
    {
      "cell_type": "code",
      "metadata": {
        "id": "4dA-yVj2PrKS",
        "colab_type": "code",
        "colab": {}
      },
      "source": [
        ""
      ],
      "execution_count": null,
      "outputs": []
    }
  ]
}