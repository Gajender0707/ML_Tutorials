{
  "nbformat": 4,
  "nbformat_minor": 0,
  "metadata": {
    "colab": {
      "name": "Numpy Day-5.ipynb",
      "provenance": []
    },
    "kernelspec": {
      "name": "python3",
      "display_name": "Python 3"
    }
  },
  "cells": [
    {
      "cell_type": "markdown",
      "metadata": {
        "id": "cxlB7Ya5JtVx",
        "colab_type": "text"
      },
      "source": [
        "Numpy - num+py\n",
        "\n",
        "Numerical\n",
        "\n",
        "Python\n"
      ]
    },
    {
      "cell_type": "markdown",
      "metadata": {
        "id": "1wmWMCz4KP46",
        "colab_type": "text"
      },
      "source": [
        "1. It is the scientific computing library for python .\n",
        "\n",
        "2. It support large number of data in the form of multi- dimensional array & matrix.\n",
        "\n",
        "3. It is used to perform mathematical calculation like:-\n",
        "\n",
        "Linear Algebra\n",
        "\n",
        "Fourier Transform\n",
        "\n",
        "Random Number"
      ]
    },
    {
      "cell_type": "markdown",
      "metadata": {
        "id": "lvRhIsdHMCTc",
        "colab_type": "text"
      },
      "source": [
        "How to create 1d array??"
      ]
    },
    {
      "cell_type": "code",
      "metadata": {
        "id": "GSP9XH5yNElK",
        "colab_type": "code",
        "colab": {}
      },
      "source": [
        "#import numpy lib\n",
        "import numpy as np"
      ],
      "execution_count": 1,
      "outputs": []
    },
    {
      "cell_type": "code",
      "metadata": {
        "id": "B6Kqn9RAMLDw",
        "colab_type": "code",
        "colab": {}
      },
      "source": [
        "arr_1d = np.array([1,2,3,4])"
      ],
      "execution_count": 9,
      "outputs": []
    },
    {
      "cell_type": "code",
      "metadata": {
        "id": "xvIGJoAMMVny",
        "colab_type": "code",
        "colab": {
          "base_uri": "https://localhost:8080/",
          "height": 34
        },
        "outputId": "facaeb5f-41ea-46c7-c984-8a950a4bea4c"
      },
      "source": [
        "print(x)\n",
        "#list = [1,2,3,4]"
      ],
      "execution_count": 6,
      "outputs": [
        {
          "output_type": "stream",
          "text": [
            "[1 2 3 4]\n"
          ],
          "name": "stdout"
        }
      ]
    },
    {
      "cell_type": "code",
      "metadata": {
        "id": "2f3gvZOHMYBb",
        "colab_type": "code",
        "colab": {
          "base_uri": "https://localhost:8080/",
          "height": 34
        },
        "outputId": "a3c4d654-b732-44c9-d9ac-3b25f00afa3d"
      },
      "source": [
        "type(x)"
      ],
      "execution_count": 7,
      "outputs": [
        {
          "output_type": "execute_result",
          "data": {
            "text/plain": [
              "numpy.ndarray"
            ]
          },
          "metadata": {
            "tags": []
          },
          "execution_count": 7
        }
      ]
    },
    {
      "cell_type": "markdown",
      "metadata": {
        "id": "7ImfJRm3Pwpf",
        "colab_type": "text"
      },
      "source": [
        "How to write 2d array??\n"
      ]
    },
    {
      "cell_type": "code",
      "metadata": {
        "id": "RSb6gVA6McoH",
        "colab_type": "code",
        "colab": {}
      },
      "source": [
        "arr_2d = np.array([[1,2,3,4],[2,6,7,8]])"
      ],
      "execution_count": 20,
      "outputs": []
    },
    {
      "cell_type": "code",
      "metadata": {
        "id": "4cfWcXvsP_cd",
        "colab_type": "code",
        "colab": {
          "base_uri": "https://localhost:8080/",
          "height": 51
        },
        "outputId": "ab33a5b1-6d70-4de9-f8b3-db4b1479b2f1"
      },
      "source": [
        "print(arr_2d)"
      ],
      "execution_count": 21,
      "outputs": [
        {
          "output_type": "stream",
          "text": [
            "[[1 2 3 4]\n",
            " [2 6 7 8]]\n"
          ],
          "name": "stdout"
        }
      ]
    },
    {
      "cell_type": "code",
      "metadata": {
        "id": "wh62rO1hQRPi",
        "colab_type": "code",
        "colab": {
          "base_uri": "https://localhost:8080/",
          "height": 34
        },
        "outputId": "6aa19f51-7cac-4123-b0fd-db55d8398e0b"
      },
      "source": [
        "type(arr_2d)"
      ],
      "execution_count": 19,
      "outputs": [
        {
          "output_type": "execute_result",
          "data": {
            "text/plain": [
              "numpy.ndarray"
            ]
          },
          "metadata": {
            "tags": []
          },
          "execution_count": 19
        }
      ]
    },
    {
      "cell_type": "code",
      "metadata": {
        "id": "qlL5P65BQU0P",
        "colab_type": "code",
        "colab": {}
      },
      "source": [
        "#check the dimension of the array\n",
        "x = arr_2d.ndim"
      ],
      "execution_count": 22,
      "outputs": []
    },
    {
      "cell_type": "code",
      "metadata": {
        "id": "AWmhA7jsUsw0",
        "colab_type": "code",
        "colab": {
          "base_uri": "https://localhost:8080/",
          "height": 34
        },
        "outputId": "07ec981b-a433-4ee9-a645-34ec1636a449"
      },
      "source": [
        "print(x)"
      ],
      "execution_count": 23,
      "outputs": [
        {
          "output_type": "stream",
          "text": [
            "2\n"
          ],
          "name": "stdout"
        }
      ]
    },
    {
      "cell_type": "code",
      "metadata": {
        "id": "qg1_BwBVUukQ",
        "colab_type": "code",
        "colab": {}
      },
      "source": [
        "#task - Create a 1d array and check it dimension."
      ],
      "execution_count": 24,
      "outputs": []
    },
    {
      "cell_type": "code",
      "metadata": {
        "id": "tXNGyciQXgJH",
        "colab_type": "code",
        "colab": {}
      },
      "source": [
        "#check the size of array\n",
        "a = arr_2d.size"
      ],
      "execution_count": 26,
      "outputs": []
    },
    {
      "cell_type": "code",
      "metadata": {
        "id": "zYkExAMTX1Id",
        "colab_type": "code",
        "colab": {
          "base_uri": "https://localhost:8080/",
          "height": 34
        },
        "outputId": "1d4c1f2c-174a-4bc0-a8c7-b9f6e9b72b12"
      },
      "source": [
        "print(a)"
      ],
      "execution_count": 27,
      "outputs": [
        {
          "output_type": "stream",
          "text": [
            "8\n"
          ],
          "name": "stdout"
        }
      ]
    },
    {
      "cell_type": "code",
      "metadata": {
        "id": "jE--xNmvX7Q6",
        "colab_type": "code",
        "colab": {}
      },
      "source": [
        "#check the shape of the array\n",
        "shape = arr_2d.shape"
      ],
      "execution_count": 28,
      "outputs": []
    },
    {
      "cell_type": "code",
      "metadata": {
        "id": "T5cHX9yJZI78",
        "colab_type": "code",
        "colab": {
          "base_uri": "https://localhost:8080/",
          "height": 34
        },
        "outputId": "0569627c-ca66-4ff2-ca24-0a91f87da284"
      },
      "source": [
        "print(shape)"
      ],
      "execution_count": 29,
      "outputs": [
        {
          "output_type": "stream",
          "text": [
            "(2, 4)\n"
          ],
          "name": "stdout"
        }
      ]
    },
    {
      "cell_type": "code",
      "metadata": {
        "id": "V8yMCkXGZKq4",
        "colab_type": "code",
        "colab": {}
      },
      "source": [
        "#check the datatype\n",
        "dtype = arr_2d.dtype"
      ],
      "execution_count": 31,
      "outputs": []
    },
    {
      "cell_type": "code",
      "metadata": {
        "id": "ugGKK9HRbDvK",
        "colab_type": "code",
        "colab": {
          "base_uri": "https://localhost:8080/",
          "height": 34
        },
        "outputId": "76436585-f794-4073-b954-2ee4c8fed640"
      },
      "source": [
        "print(dtype)"
      ],
      "execution_count": 32,
      "outputs": [
        {
          "output_type": "stream",
          "text": [
            "int64\n"
          ],
          "name": "stdout"
        }
      ]
    },
    {
      "cell_type": "code",
      "metadata": {
        "id": "uCy88Ux-bJ4W",
        "colab_type": "code",
        "colab": {}
      },
      "source": [
        "#create 3d array\n",
        "arr_3d = np.array([[[1,2,3],[2,3,4],[3,4,5]]])"
      ],
      "execution_count": 33,
      "outputs": []
    },
    {
      "cell_type": "code",
      "metadata": {
        "id": "QmGZpNrUb7I6",
        "colab_type": "code",
        "colab": {
          "base_uri": "https://localhost:8080/",
          "height": 68
        },
        "outputId": "2eb3677d-f62d-46f6-9de1-61a310a2ad65"
      },
      "source": [
        "print(arr_3d)"
      ],
      "execution_count": 34,
      "outputs": [
        {
          "output_type": "stream",
          "text": [
            "[[[1 2 3]\n",
            "  [2 3 4]\n",
            "  [3 4 5]]]\n"
          ],
          "name": "stdout"
        }
      ]
    },
    {
      "cell_type": "code",
      "metadata": {
        "id": "eLdjAFIQb9JA",
        "colab_type": "code",
        "colab": {}
      },
      "source": [
        "#task - to create 3d array check the size,shape,ndim,dtype of the array."
      ],
      "execution_count": 35,
      "outputs": []
    },
    {
      "cell_type": "code",
      "metadata": {
        "id": "L35uwkpOfSQ6",
        "colab_type": "code",
        "colab": {
          "base_uri": "https://localhost:8080/",
          "height": 34
        },
        "outputId": "6de4eb8f-87f2-45cb-8da0-aa5e22ca6aa3"
      },
      "source": [
        "arr_3d.shape"
      ],
      "execution_count": 38,
      "outputs": [
        {
          "output_type": "execute_result",
          "data": {
            "text/plain": [
              "(1, 3, 3)"
            ]
          },
          "metadata": {
            "tags": []
          },
          "execution_count": 38
        }
      ]
    },
    {
      "cell_type": "code",
      "metadata": {
        "id": "EtHVkQMyfbPL",
        "colab_type": "code",
        "colab": {}
      },
      "source": [
        "#creating identical n dimension array\n",
        "a = np.ones((500,6))"
      ],
      "execution_count": 54,
      "outputs": []
    },
    {
      "cell_type": "code",
      "metadata": {
        "id": "lw8CFBbUhHf4",
        "colab_type": "code",
        "colab": {
          "base_uri": "https://localhost:8080/",
          "height": 137
        },
        "outputId": "4238e808-ee16-492d-8ee1-e18222a0bd10"
      },
      "source": [
        "print(a)"
      ],
      "execution_count": 55,
      "outputs": [
        {
          "output_type": "stream",
          "text": [
            "[[1. 1. 1. 1. 1. 1.]\n",
            " [1. 1. 1. 1. 1. 1.]\n",
            " [1. 1. 1. 1. 1. 1.]\n",
            " ...\n",
            " [1. 1. 1. 1. 1. 1.]\n",
            " [1. 1. 1. 1. 1. 1.]\n",
            " [1. 1. 1. 1. 1. 1.]]\n"
          ],
          "name": "stdout"
        }
      ]
    },
    {
      "cell_type": "code",
      "metadata": {
        "id": "RuA83u0zhJSm",
        "colab_type": "code",
        "colab": {
          "base_uri": "https://localhost:8080/",
          "height": 34
        },
        "outputId": "7bd9bf53-de1b-41cf-9c77-6a4fd43a2eee"
      },
      "source": [
        "a.dtype"
      ],
      "execution_count": 49,
      "outputs": [
        {
          "output_type": "execute_result",
          "data": {
            "text/plain": [
              "dtype('float64')"
            ]
          },
          "metadata": {
            "tags": []
          },
          "execution_count": 49
        }
      ]
    },
    {
      "cell_type": "code",
      "metadata": {
        "id": "d1KG_qpShxQz",
        "colab_type": "code",
        "colab": {}
      },
      "source": [
        "#change the datatype\n",
        "a = np.ones((5,6),dtype = int)"
      ],
      "execution_count": 60,
      "outputs": []
    },
    {
      "cell_type": "code",
      "metadata": {
        "id": "QE7Ti0ptir3X",
        "colab_type": "code",
        "colab": {
          "base_uri": "https://localhost:8080/",
          "height": 103
        },
        "outputId": "6dbda9ce-301e-4367-ca08-c366097942bc"
      },
      "source": [
        "print(a)"
      ],
      "execution_count": 61,
      "outputs": [
        {
          "output_type": "stream",
          "text": [
            "[[1 1 1 1 1 1]\n",
            " [1 1 1 1 1 1]\n",
            " [1 1 1 1 1 1]\n",
            " [1 1 1 1 1 1]\n",
            " [1 1 1 1 1 1]]\n"
          ],
          "name": "stdout"
        }
      ]
    },
    {
      "cell_type": "code",
      "metadata": {
        "id": "UcSUW00vitel",
        "colab_type": "code",
        "colab": {}
      },
      "source": [
        "#creating 0 n dimension array\n",
        "a = np.zeros((3,8),dtype=int)"
      ],
      "execution_count": 79,
      "outputs": []
    },
    {
      "cell_type": "code",
      "metadata": {
        "id": "Iv2C1wFQkqBd",
        "colab_type": "code",
        "colab": {
          "base_uri": "https://localhost:8080/",
          "height": 68
        },
        "outputId": "5f4fd761-f8a4-43c8-f6dd-23c84ee481b6"
      },
      "source": [
        "print(a)"
      ],
      "execution_count": 80,
      "outputs": [
        {
          "output_type": "stream",
          "text": [
            "[[0 0 0 0 0 0 0 0]\n",
            " [0 0 0 0 0 0 0 0]\n",
            " [0 0 0 0 0 0 0 0]]\n"
          ],
          "name": "stdout"
        }
      ]
    },
    {
      "cell_type": "code",
      "metadata": {
        "id": "ccjH1xQhkstU",
        "colab_type": "code",
        "colab": {
          "base_uri": "https://localhost:8080/",
          "height": 34
        },
        "outputId": "3dc9e945-39b9-478e-a845-cc786613ec86"
      },
      "source": [
        "a.dtype"
      ],
      "execution_count": 81,
      "outputs": [
        {
          "output_type": "execute_result",
          "data": {
            "text/plain": [
              "dtype('int64')"
            ]
          },
          "metadata": {
            "tags": []
          },
          "execution_count": 81
        }
      ]
    },
    {
      "cell_type": "markdown",
      "metadata": {
        "id": "4KEIhE0WmONZ",
        "colab_type": "text"
      },
      "source": [
        "Numpy Function\n",
        "\n",
        "1. arange\n",
        "\n",
        "2. linspace\n",
        "\n",
        "3. reshape\n",
        "\n",
        "4. Transpose matrix/function"
      ]
    },
    {
      "cell_type": "code",
      "metadata": {
        "id": "xyLCiWBVlH-o",
        "colab_type": "code",
        "colab": {}
      },
      "source": [
        "#arange - (1,10,2)  1,4,7   1,3,5,7,9\n",
        "#range - (1,10)\n",
        "a = np.arange(1,11,2)    # 1,3,5,7,9"
      ],
      "execution_count": 83,
      "outputs": []
    },
    {
      "cell_type": "code",
      "metadata": {
        "id": "CtHQ_DXWm1rM",
        "colab_type": "code",
        "colab": {
          "base_uri": "https://localhost:8080/",
          "height": 34
        },
        "outputId": "6941c931-55a4-4153-8cd6-28182732f59c"
      },
      "source": [
        "print(a)"
      ],
      "execution_count": 84,
      "outputs": [
        {
          "output_type": "stream",
          "text": [
            "[1 3 5 7 9]\n"
          ],
          "name": "stdout"
        }
      ]
    },
    {
      "cell_type": "code",
      "metadata": {
        "id": "E4iIQkLmn7tT",
        "colab_type": "code",
        "colab": {}
      },
      "source": [
        "#linspace  (1,50,2)     (2,3,4)(3,8,6)\n",
        "a = np.linspace(1,10,3)"
      ],
      "execution_count": 87,
      "outputs": []
    },
    {
      "cell_type": "code",
      "metadata": {
        "id": "W1f_Ba_TocHN",
        "colab_type": "code",
        "colab": {
          "base_uri": "https://localhost:8080/",
          "height": 34
        },
        "outputId": "c1dafbdc-5e8f-4fc8-841e-a895d0f05f10"
      },
      "source": [
        "print(a)         "
      ],
      "execution_count": 89,
      "outputs": [
        {
          "output_type": "stream",
          "text": [
            "[ 1.   5.5 10. ]\n"
          ],
          "name": "stdout"
        }
      ]
    },
    {
      "cell_type": "code",
      "metadata": {
        "id": "MMdhxPOSoc-F",
        "colab_type": "code",
        "colab": {
          "base_uri": "https://localhost:8080/",
          "height": 34
        },
        "outputId": "5bd782a4-71be-4532-aedd-416b4f6951e8"
      },
      "source": [
        "5.5-1"
      ],
      "execution_count": 90,
      "outputs": [
        {
          "output_type": "execute_result",
          "data": {
            "text/plain": [
              "4.5"
            ]
          },
          "metadata": {
            "tags": []
          },
          "execution_count": 90
        }
      ]
    },
    {
      "cell_type": "code",
      "metadata": {
        "id": "8mxL0wo8pnrw",
        "colab_type": "code",
        "colab": {
          "base_uri": "https://localhost:8080/",
          "height": 34
        },
        "outputId": "742c711e-36a7-4993-f0e9-e12145e485b9"
      },
      "source": [
        "10-5.5"
      ],
      "execution_count": 91,
      "outputs": [
        {
          "output_type": "execute_result",
          "data": {
            "text/plain": [
              "4.5"
            ]
          },
          "metadata": {
            "tags": []
          },
          "execution_count": 91
        }
      ]
    },
    {
      "cell_type": "code",
      "metadata": {
        "id": "b5JuKK63psLA",
        "colab_type": "code",
        "colab": {}
      },
      "source": [
        "#reshape- Convert 1d into 2d\n",
        "arr_1d = np.array([1,2,3,4,5,6,7,0])\n",
        "arr_2d = arr_1d.reshape(2,4)"
      ],
      "execution_count": 104,
      "outputs": []
    },
    {
      "cell_type": "code",
      "metadata": {
        "id": "AW9lkL0XqlmE",
        "colab_type": "code",
        "colab": {
          "base_uri": "https://localhost:8080/",
          "height": 51
        },
        "outputId": "a2b9187e-20d8-4db6-cb42-164b7e3cb774"
      },
      "source": [
        "print(arr_2d)"
      ],
      "execution_count": 105,
      "outputs": [
        {
          "output_type": "stream",
          "text": [
            "[[1 2 3 4]\n",
            " [5 6 7 0]]\n"
          ],
          "name": "stdout"
        }
      ]
    },
    {
      "cell_type": "code",
      "metadata": {
        "id": "xC8-94Laq0sV",
        "colab_type": "code",
        "colab": {}
      },
      "source": [
        "#transpose matrix / function\n",
        "arr = np.array([[1,2,3],[7,8,9]])"
      ],
      "execution_count": 106,
      "outputs": []
    },
    {
      "cell_type": "code",
      "metadata": {
        "id": "9znDSSuWsmPN",
        "colab_type": "code",
        "colab": {
          "base_uri": "https://localhost:8080/",
          "height": 68
        },
        "outputId": "533faa9c-e0cb-404d-c7fd-95e7c2130b4c"
      },
      "source": [
        "arr.transpose()\n",
        "#or"
      ],
      "execution_count": 107,
      "outputs": [
        {
          "output_type": "execute_result",
          "data": {
            "text/plain": [
              "array([[1, 7],\n",
              "       [2, 8],\n",
              "       [3, 9]])"
            ]
          },
          "metadata": {
            "tags": []
          },
          "execution_count": 107
        }
      ]
    },
    {
      "cell_type": "code",
      "metadata": {
        "id": "I3WuHRyvspfZ",
        "colab_type": "code",
        "colab": {
          "base_uri": "https://localhost:8080/",
          "height": 68
        },
        "outputId": "df48e638-08d0-4e74-8895-a06019b9884c"
      },
      "source": [
        "arr.T"
      ],
      "execution_count": 108,
      "outputs": [
        {
          "output_type": "execute_result",
          "data": {
            "text/plain": [
              "array([[1, 7],\n",
              "       [2, 8],\n",
              "       [3, 9]])"
            ]
          },
          "metadata": {
            "tags": []
          },
          "execution_count": 108
        }
      ]
    },
    {
      "cell_type": "markdown",
      "metadata": {
        "id": "SOPODPz0uM2e",
        "colab_type": "text"
      },
      "source": [
        "Mathematical Opeartion using Numpy\n",
        "\n",
        "1. Add\n",
        "\n",
        "2. Sub\n",
        "\n",
        "3. Multiply\n",
        "\n",
        "4. Division\n",
        "\n",
        "5. Dot product of Matrix"
      ]
    },
    {
      "cell_type": "code",
      "metadata": {
        "id": "xL2urtUpsuYo",
        "colab_type": "code",
        "colab": {
          "base_uri": "https://localhost:8080/",
          "height": 360
        },
        "outputId": "9d296166-1231-429a-8bf1-e062d74699de"
      },
      "source": [
        "arr1 = np.arange(1,21).reshape(10,2)\n",
        "arr2 = np.arange(1,21).reshape(10,2)\n",
        "print(arr1)\n",
        "print(arr2)"
      ],
      "execution_count": 111,
      "outputs": [
        {
          "output_type": "stream",
          "text": [
            "[[ 1  2]\n",
            " [ 3  4]\n",
            " [ 5  6]\n",
            " [ 7  8]\n",
            " [ 9 10]\n",
            " [11 12]\n",
            " [13 14]\n",
            " [15 16]\n",
            " [17 18]\n",
            " [19 20]]\n",
            "[[ 1  2]\n",
            " [ 3  4]\n",
            " [ 5  6]\n",
            " [ 7  8]\n",
            " [ 9 10]\n",
            " [11 12]\n",
            " [13 14]\n",
            " [15 16]\n",
            " [17 18]\n",
            " [19 20]]\n"
          ],
          "name": "stdout"
        }
      ]
    },
    {
      "cell_type": "code",
      "metadata": {
        "id": "Kw_htjxuupXY",
        "colab_type": "code",
        "colab": {}
      },
      "source": [
        "x = arr1+arr2"
      ],
      "execution_count": 113,
      "outputs": []
    },
    {
      "cell_type": "code",
      "metadata": {
        "id": "cXrxhf9Ku1eS",
        "colab_type": "code",
        "colab": {
          "base_uri": "https://localhost:8080/",
          "height": 188
        },
        "outputId": "1e4cf793-182c-4848-f48b-683e3c0e5c21"
      },
      "source": [
        "print(x)"
      ],
      "execution_count": 114,
      "outputs": [
        {
          "output_type": "stream",
          "text": [
            "[[ 2  4]\n",
            " [ 6  8]\n",
            " [10 12]\n",
            " [14 16]\n",
            " [18 20]\n",
            " [22 24]\n",
            " [26 28]\n",
            " [30 32]\n",
            " [34 36]\n",
            " [38 40]]\n"
          ],
          "name": "stdout"
        }
      ]
    },
    {
      "cell_type": "code",
      "metadata": {
        "id": "-LpcWur_u9gC",
        "colab_type": "code",
        "colab": {}
      },
      "source": [
        "#sub\n",
        "#division\n",
        "#multiplication\n",
        "#dot product of matrix\n",
        "\n",
        "x= np.arange(1,5).reshape(2,2)\n",
        "y= np.arange(1,5).reshape(2,2)\n"
      ],
      "execution_count": 115,
      "outputs": []
    },
    {
      "cell_type": "code",
      "metadata": {
        "id": "6zfRnLuRv-Ca",
        "colab_type": "code",
        "colab": {}
      },
      "source": [
        "#for dot product\n",
        "a = x@y"
      ],
      "execution_count": 116,
      "outputs": []
    },
    {
      "cell_type": "code",
      "metadata": {
        "id": "0VJniUg9wEjD",
        "colab_type": "code",
        "colab": {
          "base_uri": "https://localhost:8080/",
          "height": 51
        },
        "outputId": "f0e62856-4e64-43e1-b5c7-c0af58fdd969"
      },
      "source": [
        "print(a)"
      ],
      "execution_count": 117,
      "outputs": [
        {
          "output_type": "stream",
          "text": [
            "[[ 7 10]\n",
            " [15 22]]\n"
          ],
          "name": "stdout"
        }
      ]
    },
    {
      "cell_type": "code",
      "metadata": {
        "id": "g4yboXlywFui",
        "colab_type": "code",
        "colab": {
          "base_uri": "https://localhost:8080/",
          "height": 51
        },
        "outputId": "39c17221-9f5b-4749-9378-9f5b582db77b"
      },
      "source": [
        "#or\n",
        "x.dot(y)"
      ],
      "execution_count": 118,
      "outputs": [
        {
          "output_type": "execute_result",
          "data": {
            "text/plain": [
              "array([[ 7, 10],\n",
              "       [15, 22]])"
            ]
          },
          "metadata": {
            "tags": []
          },
          "execution_count": 118
        }
      ]
    },
    {
      "cell_type": "code",
      "metadata": {
        "id": "M2JLL_hawLOv",
        "colab_type": "code",
        "colab": {}
      },
      "source": [
        ""
      ],
      "execution_count": null,
      "outputs": []
    }
  ]
}